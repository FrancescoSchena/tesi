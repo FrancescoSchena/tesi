{
 "cells": [
  {
   "cell_type": "markdown",
   "id": "champion-latino",
   "metadata": {},
   "source": [
    "Import delle librerie e assegnazione dei path dei 3 xlsx"
   ]
  },
  {
   "cell_type": "code",
   "execution_count": 1,
   "id": "proved-broadway",
   "metadata": {},
   "outputs": [],
   "source": [
    "import numpy as np"
   ]
  },
  {
   "cell_type": "code",
   "execution_count": 2,
   "id": "internal-evening",
   "metadata": {},
   "outputs": [],
   "source": [
    "import statsmodels.api as sm"
   ]
  },
  {
   "cell_type": "code",
   "execution_count": 3,
   "id": "fabulous-composition",
   "metadata": {},
   "outputs": [],
   "source": [
    "import pandas as pd"
   ]
  },
  {
   "cell_type": "code",
   "execution_count": 4,
   "id": "published-contrast",
   "metadata": {},
   "outputs": [],
   "source": [
    "import seaborn as sn\n",
    "%matplotlib inline\n",
    "import matplotlib.pyplot as plt"
   ]
  },
  {
   "cell_type": "code",
   "execution_count": 5,
   "id": "unlimited-barcelona",
   "metadata": {},
   "outputs": [],
   "source": [
    "quot = 'quot.xlsx'\n",
    "comm = 'comm.xlsx'\n",
    "coop = 'coop.xlsx'"
   ]
  },
  {
   "cell_type": "markdown",
   "id": "executive-slide",
   "metadata": {},
   "source": [
    "Import dei 3 file excel come pandas dataframe importando solo il foglio di lavoro \"Reults\"."
   ]
  },
  {
   "cell_type": "code",
   "execution_count": 6,
   "id": "olympic-vacation",
   "metadata": {},
   "outputs": [],
   "source": [
    "df_quot = pd.read_excel(quot, sheet_name='Results')\n",
    "df_comm = pd.read_excel(comm, sheet_name='Results')\n",
    "df_coop = pd.read_excel(coop, sheet_name='Results')"
   ]
  },
  {
   "cell_type": "markdown",
   "id": "brave-authentication",
   "metadata": {},
   "source": [
    "\n",
    "Esplorazione dei dati partendo dal dataset relativo alle banche quotate:"
   ]
  },
  {
   "cell_type": "code",
   "execution_count": 7,
   "id": "coupled-mercury",
   "metadata": {
    "scrolled": true
   },
   "outputs": [
    {
     "name": "stdout",
     "output_type": "stream",
     "text": [
      "Il database contiene: 2634 banche e 24 colonne\n"
     ]
    }
   ],
   "source": [
    "df = df_coop.copy()\n",
    "print(f\"Il database contiene: {df.shape[0]} banche e {df_quot.shape[1]} colonne\")"
   ]
  },
  {
   "cell_type": "markdown",
   "id": "southern-scope",
   "metadata": {},
   "source": [
    "Le colonne presenti sono:"
   ]
  },
  {
   "cell_type": "code",
   "execution_count": 8,
   "id": "addressed-customs",
   "metadata": {},
   "outputs": [
    {
     "name": "stdout",
     "output_type": "stream",
     "text": [
      "1 \t 'Unnamed: 0'\n",
      "2 \t 'Company name Latin alphabet'\n",
      "3 \t 'BvD ID number'\n",
      "4 \t 'Loans\\nth EUR 2019'\n",
      "5 \t 'Total assets\\nth EUR 2019'\n",
      "6 \t 'Customer deposits\\nth EUR 2019'\n",
      "7 \t 'Total equity\\nth EUR 2019'\n",
      "8 \t 'Total equity / Total assets (%)\\n2019'\n",
      "9 \t 'Total equity / Risk-weighted assets (RWAs) (%)\\n2019'\n",
      "10 \t 'NPL ratio (as reported) (%)\\n2019'\n",
      "11 \t 'Impaired loans / Average risk weighted assets (RWAs) (%)\\n2019'\n",
      "12 \t 'Lagged impaired loans (Impaired loans % prior year gross customer loans & advances) (%)\\n2019'\n",
      "13 \t 'Impaired loans / Total equity (%)\\n2019'\n",
      "14 \t 'Impaired loans / Gross customer loans & advances (%)\\n2019'\n",
      "15 \t 'Net income\\nth EUR 2019'\n",
      "16 \t 'Return on average equity (ROAE) (%)\\n2019'\n",
      "17 \t 'Return on average assets (ROAA) (%)\\n2019'\n",
      "18 \t 'Net interest margin (interest earning assets) (%)\\n2019'\n",
      "19 \t 'Cost to income (Efficiency) ratio (%)\\n2019'\n",
      "20 \t 'Dividends related to the period / Net income (Dividend pay-out ratio) (%)\\n2019'\n",
      "21 \t 'Liquid assets\\nth EUR 2019'\n",
      "22 \t 'Liquid assets / Total assets (%)\\n2019'\n",
      "23 \t 'Basel Liquidity Coverage Ratio (LCR) (%)\\n2019'\n",
      "24 \t 'Basel Net Stable Funding Ratio (NSFR) (%)\\n2019'\n"
     ]
    }
   ],
   "source": [
    "# Nome colonne\n",
    "for i, col in enumerate(df.columns):\n",
    "    print(i+1, \"\\t\", repr(col))"
   ]
  },
  {
   "cell_type": "code",
   "execution_count": 9,
   "id": "brutal-modification",
   "metadata": {},
   "outputs": [
    {
     "name": "stdout",
     "output_type": "stream",
     "text": [
      "Unnamed: 0                                                                                        0.000000\n",
      "Company name Latin alphabet                                                                       0.000000\n",
      "BvD ID number                                                                                     0.000000\n",
      "Loans\\nth EUR 2019                                                                               13.477601\n",
      "Total assets\\nth EUR 2019                                                                        13.325740\n",
      "Customer deposits\\nth EUR 2019                                                                   13.553531\n",
      "Total equity\\nth EUR 2019                                                                        13.401670\n",
      "Total equity / Total assets (%)\\n2019                                                            13.401670\n",
      "Total equity / Risk-weighted assets (RWAs) (%)\\n2019                                             41.154138\n",
      "NPL ratio (as reported) (%)\\n2019                                                                88.382688\n",
      "Impaired loans / Average risk weighted assets (RWAs) (%)\\n2019                                   47.000759\n",
      "Lagged impaired loans (Impaired loans % prior year gross customer loans & advances) (%)\\n2019    37.737282\n",
      "Impaired loans / Total equity (%)\\n2019                                                          37.585421\n",
      "Impaired loans / Gross customer loans & advances (%)\\n2019                                       37.471526\n",
      "Net income\\nth EUR 2019                                                                          13.515566\n",
      "Return on average equity (ROAE) (%)\\n2019                                                        13.971147\n",
      "Return on average assets (ROAA) (%)\\n2019                                                        13.819286\n",
      "Net interest margin (interest earning assets) (%)\\n2019                                          13.895216\n",
      "Cost to income (Efficiency) ratio (%)\\n2019                                                      13.705391\n",
      "Dividends related to the period / Net income (Dividend pay-out ratio) (%)\\n2019                  68.678815\n",
      "Liquid assets\\nth EUR 2019                                                                       13.401670\n",
      "Liquid assets / Total assets (%)\\n2019                                                           13.401670\n",
      "Basel Liquidity Coverage Ratio (LCR) (%)\\n2019                                                   77.828398\n",
      "Basel Net Stable Funding Ratio (NSFR) (%)\\n2019                                                  96.393318\n",
      "dtype: float64\n"
     ]
    }
   ],
   "source": [
    "# Valori n.a. somma per colonna\n",
    "temp = df\n",
    "cols = temp.columns.drop([\"Company name Latin alphabet\", \"BvD ID number\"])\n",
    "temp[cols] = temp[cols].apply(pd.to_numeric, errors=\"coerce\")\n",
    "total = df.shape[0]\n",
    "print(temp.isna().sum()/total*100)"
   ]
  },
  {
   "cell_type": "markdown",
   "id": "dramatic-crown",
   "metadata": {},
   "source": [
    "\n",
    "Si procede quindi con l'eliminare le colonne che non verranno utilizzate:"
   ]
  },
  {
   "cell_type": "code",
   "execution_count": 10,
   "id": "hybrid-grace",
   "metadata": {
    "scrolled": false
   },
   "outputs": [],
   "source": [
    "to_be_dropped = [\"BvD ID number\",\n",
    "                 \"Loans\\nth EUR 2019\",\n",
    "                 \"Customer deposits\\nth EUR 2019\",\n",
    "                 \"Total equity\\nth EUR 2019\",\n",
    "                 \"Total equity / Risk-weighted assets (RWAs) (%)\\n2019\",\n",
    "                 \"NPL ratio (as reported) (%)\\n2019\",\n",
    "                 \"Impaired loans / Average risk weighted assets (RWAs) (%)\\n2019\",\n",
    "                 \"Impaired loans / Total equity (%)\\n2019\",\n",
    "                 \"Net income\\nth EUR 2019\",\n",
    "                 \"Dividends related to the period / Net income (Dividend pay-out ratio) (%)\\n2019\",\n",
    "                 \"Liquid assets\\nth EUR 2019\",\n",
    "                 \"Liquid assets / Total assets (%)\\n2019\",\n",
    "                 \"Basel Liquidity Coverage Ratio (LCR) (%)\\n2019\",\n",
    "                 \"Basel Net Stable Funding Ratio (NSFR) (%)\\n2019\"]\n",
    "\n",
    "df.drop(df.columns[df.columns.str.contains('unnamed',case=False)], inplace=True, axis=1)\n",
    "df.drop(to_be_dropped, inplace= True, axis=1)"
   ]
  },
  {
   "cell_type": "markdown",
   "id": "korean-resolution",
   "metadata": {},
   "source": [
    "E con il rinominare le colonne con nomi di più facile comprensione"
   ]
  },
  {
   "cell_type": "code",
   "execution_count": 11,
   "id": "pursuant-operations",
   "metadata": {},
   "outputs": [],
   "source": [
    "df.rename(columns={\"Company name Latin alphabet\":\"Bank name\",\n",
    "                        \"Total assets\\nth EUR 2019\":\"Total assets\",\n",
    "                        \"Total equity / Total assets (%)\\n2019\":\"Tot Equity/Assets\",\n",
    "                        \"Lagged impaired loans (Impaired loans % prior year gross customer loans & advances) (%)\\n2019\":\"1y Lagged Impaired Ratio\",\n",
    "                        \"Impaired loans / Gross customer loans & advances (%)\\n2019\":\"Imp Loans/Gross Loans\",\n",
    "                        \"Return on average equity (ROAE) (%)\\n2019\":\"ROAE\",\n",
    "                        \"Return on average assets (ROAA) (%)\\n2019\":\"ROAA\",\n",
    "                        \"Net interest margin (interest earning assets) (%)\\n2019\":\"NIM\",\n",
    "                        \"Cost to income (Efficiency) ratio (%)\\n2019\":\"CtI Ratio\"}, inplace=True)"
   ]
  },
  {
   "cell_type": "code",
   "execution_count": 12,
   "id": "running-button",
   "metadata": {},
   "outputs": [
    {
     "name": "stdout",
     "output_type": "stream",
     "text": [
      "1 \t 'Bank name'\n",
      "2 \t 'Total assets'\n",
      "3 \t 'Tot Equity/Assets'\n",
      "4 \t '1y Lagged Impaired Ratio'\n",
      "5 \t 'Imp Loans/Gross Loans'\n",
      "6 \t 'ROAE'\n",
      "7 \t 'ROAA'\n",
      "8 \t 'NIM'\n",
      "9 \t 'CtI Ratio'\n"
     ]
    }
   ],
   "source": [
    "for i, col in enumerate(df.columns):\n",
    "    print(i+1, \"\\t\", repr(col))"
   ]
  },
  {
   "cell_type": "code",
   "execution_count": 13,
   "id": "adult-customer",
   "metadata": {},
   "outputs": [
    {
     "data": {
      "text/html": [
       "<div>\n",
       "<style scoped>\n",
       "    .dataframe tbody tr th:only-of-type {\n",
       "        vertical-align: middle;\n",
       "    }\n",
       "\n",
       "    .dataframe tbody tr th {\n",
       "        vertical-align: top;\n",
       "    }\n",
       "\n",
       "    .dataframe thead th {\n",
       "        text-align: right;\n",
       "    }\n",
       "</style>\n",
       "<table border=\"1\" class=\"dataframe\">\n",
       "  <thead>\n",
       "    <tr style=\"text-align: right;\">\n",
       "      <th></th>\n",
       "      <th>Total assets</th>\n",
       "      <th>Tot Equity/Assets</th>\n",
       "      <th>1y Lagged Impaired Ratio</th>\n",
       "      <th>Imp Loans/Gross Loans</th>\n",
       "      <th>ROAE</th>\n",
       "      <th>ROAA</th>\n",
       "      <th>NIM</th>\n",
       "      <th>CtI Ratio</th>\n",
       "    </tr>\n",
       "  </thead>\n",
       "  <tbody>\n",
       "    <tr>\n",
       "      <th>count</th>\n",
       "      <td>2.283000e+03</td>\n",
       "      <td>2281.000000</td>\n",
       "      <td>1640.000000</td>\n",
       "      <td>1647.000000</td>\n",
       "      <td>2266.000000</td>\n",
       "      <td>2270.000000</td>\n",
       "      <td>2268.000000</td>\n",
       "      <td>2273.000000</td>\n",
       "    </tr>\n",
       "    <tr>\n",
       "      <th>mean</th>\n",
       "      <td>7.749647e+06</td>\n",
       "      <td>10.598602</td>\n",
       "      <td>4.392971</td>\n",
       "      <td>4.014706</td>\n",
       "      <td>3.664961</td>\n",
       "      <td>0.383311</td>\n",
       "      <td>1.515549</td>\n",
       "      <td>70.967860</td>\n",
       "    </tr>\n",
       "    <tr>\n",
       "      <th>std</th>\n",
       "      <td>6.637640e+07</td>\n",
       "      <td>5.554904</td>\n",
       "      <td>5.573287</td>\n",
       "      <td>5.085314</td>\n",
       "      <td>3.891274</td>\n",
       "      <td>0.380526</td>\n",
       "      <td>5.282201</td>\n",
       "      <td>22.284291</td>\n",
       "    </tr>\n",
       "    <tr>\n",
       "      <th>min</th>\n",
       "      <td>1.716200e+04</td>\n",
       "      <td>2.574754</td>\n",
       "      <td>0.000000</td>\n",
       "      <td>0.000000</td>\n",
       "      <td>-32.520127</td>\n",
       "      <td>-5.726369</td>\n",
       "      <td>-200.000000</td>\n",
       "      <td>12.316996</td>\n",
       "    </tr>\n",
       "    <tr>\n",
       "      <th>25%</th>\n",
       "      <td>1.796960e+05</td>\n",
       "      <td>8.222460</td>\n",
       "      <td>1.385606</td>\n",
       "      <td>1.280902</td>\n",
       "      <td>1.842207</td>\n",
       "      <td>0.175446</td>\n",
       "      <td>1.394940</td>\n",
       "      <td>63.531955</td>\n",
       "    </tr>\n",
       "    <tr>\n",
       "      <th>50%</th>\n",
       "      <td>4.694110e+05</td>\n",
       "      <td>9.801205</td>\n",
       "      <td>2.710552</td>\n",
       "      <td>2.513877</td>\n",
       "      <td>3.349456</td>\n",
       "      <td>0.338166</td>\n",
       "      <td>1.654985</td>\n",
       "      <td>69.964070</td>\n",
       "    </tr>\n",
       "    <tr>\n",
       "      <th>75%</th>\n",
       "      <td>1.518966e+06</td>\n",
       "      <td>12.069778</td>\n",
       "      <td>6.451525</td>\n",
       "      <td>5.863266</td>\n",
       "      <td>5.257314</td>\n",
       "      <td>0.550039</td>\n",
       "      <td>1.922715</td>\n",
       "      <td>76.362592</td>\n",
       "    </tr>\n",
       "    <tr>\n",
       "      <th>max</th>\n",
       "      <td>1.767643e+09</td>\n",
       "      <td>100.000000</td>\n",
       "      <td>90.311143</td>\n",
       "      <td>89.694574</td>\n",
       "      <td>26.368226</td>\n",
       "      <td>3.503850</td>\n",
       "      <td>12.327309</td>\n",
       "      <td>741.801602</td>\n",
       "    </tr>\n",
       "  </tbody>\n",
       "</table>\n",
       "</div>"
      ],
      "text/plain": [
       "       Total assets  Tot Equity/Assets  1y Lagged Impaired Ratio  \\\n",
       "count  2.283000e+03        2281.000000               1640.000000   \n",
       "mean   7.749647e+06          10.598602                  4.392971   \n",
       "std    6.637640e+07           5.554904                  5.573287   \n",
       "min    1.716200e+04           2.574754                  0.000000   \n",
       "25%    1.796960e+05           8.222460                  1.385606   \n",
       "50%    4.694110e+05           9.801205                  2.710552   \n",
       "75%    1.518966e+06          12.069778                  6.451525   \n",
       "max    1.767643e+09         100.000000                 90.311143   \n",
       "\n",
       "       Imp Loans/Gross Loans         ROAE         ROAA          NIM  \\\n",
       "count            1647.000000  2266.000000  2270.000000  2268.000000   \n",
       "mean                4.014706     3.664961     0.383311     1.515549   \n",
       "std                 5.085314     3.891274     0.380526     5.282201   \n",
       "min                 0.000000   -32.520127    -5.726369  -200.000000   \n",
       "25%                 1.280902     1.842207     0.175446     1.394940   \n",
       "50%                 2.513877     3.349456     0.338166     1.654985   \n",
       "75%                 5.863266     5.257314     0.550039     1.922715   \n",
       "max                89.694574    26.368226     3.503850    12.327309   \n",
       "\n",
       "         CtI Ratio  \n",
       "count  2273.000000  \n",
       "mean     70.967860  \n",
       "std      22.284291  \n",
       "min      12.316996  \n",
       "25%      63.531955  \n",
       "50%      69.964070  \n",
       "75%      76.362592  \n",
       "max     741.801602  "
      ]
     },
     "execution_count": 13,
     "metadata": {},
     "output_type": "execute_result"
    }
   ],
   "source": [
    "df.describe()"
   ]
  },
  {
   "cell_type": "markdown",
   "id": "awful-friday",
   "metadata": {},
   "source": [
    "Si procede quindi con l'eliminazione delle banche che presentano campi non completi"
   ]
  },
  {
   "cell_type": "code",
   "execution_count": 14,
   "id": "discrete-ceremony",
   "metadata": {},
   "outputs": [
    {
     "name": "stdout",
     "output_type": "stream",
     "text": [
      "Bank name                     0\n",
      "Total assets                351\n",
      "Tot Equity/Assets           353\n",
      "1y Lagged Impaired Ratio    994\n",
      "Imp Loans/Gross Loans       987\n",
      "ROAE                        368\n",
      "ROAA                        364\n",
      "NIM                         366\n",
      "CtI Ratio                   361\n",
      "dtype: int64\n"
     ]
    }
   ],
   "source": [
    "cols = df.columns.drop(\"Bank name\")\n",
    "df[cols] = df[cols].apply(pd.to_numeric, errors=\"coerce\")\n",
    "print(df.isna().sum())\n",
    "df.dropna(inplace= True)"
   ]
  },
  {
   "cell_type": "code",
   "execution_count": 15,
   "id": "realistic-steel",
   "metadata": {},
   "outputs": [
    {
     "data": {
      "text/html": [
       "<div>\n",
       "<style scoped>\n",
       "    .dataframe tbody tr th:only-of-type {\n",
       "        vertical-align: middle;\n",
       "    }\n",
       "\n",
       "    .dataframe tbody tr th {\n",
       "        vertical-align: top;\n",
       "    }\n",
       "\n",
       "    .dataframe thead th {\n",
       "        text-align: right;\n",
       "    }\n",
       "</style>\n",
       "<table border=\"1\" class=\"dataframe\">\n",
       "  <thead>\n",
       "    <tr style=\"text-align: right;\">\n",
       "      <th></th>\n",
       "      <th>Total assets</th>\n",
       "      <th>Tot Equity/Assets</th>\n",
       "      <th>1y Lagged Impaired Ratio</th>\n",
       "      <th>Imp Loans/Gross Loans</th>\n",
       "      <th>ROAE</th>\n",
       "      <th>ROAA</th>\n",
       "      <th>NIM</th>\n",
       "      <th>CtI Ratio</th>\n",
       "    </tr>\n",
       "  </thead>\n",
       "  <tbody>\n",
       "    <tr>\n",
       "      <th>count</th>\n",
       "      <td>1.631000e+03</td>\n",
       "      <td>1631.000000</td>\n",
       "      <td>1631.000000</td>\n",
       "      <td>1631.000000</td>\n",
       "      <td>1631.000000</td>\n",
       "      <td>1631.000000</td>\n",
       "      <td>1631.000000</td>\n",
       "      <td>1631.000000</td>\n",
       "    </tr>\n",
       "    <tr>\n",
       "      <th>mean</th>\n",
       "      <td>9.640740e+06</td>\n",
       "      <td>10.392757</td>\n",
       "      <td>4.400130</td>\n",
       "      <td>4.023565</td>\n",
       "      <td>3.190186</td>\n",
       "      <td>0.337962</td>\n",
       "      <td>1.675825</td>\n",
       "      <td>70.377984</td>\n",
       "    </tr>\n",
       "    <tr>\n",
       "      <th>std</th>\n",
       "      <td>7.636073e+07</td>\n",
       "      <td>4.356821</td>\n",
       "      <td>5.585627</td>\n",
       "      <td>5.101229</td>\n",
       "      <td>3.874437</td>\n",
       "      <td>0.363513</td>\n",
       "      <td>0.554329</td>\n",
       "      <td>18.573556</td>\n",
       "    </tr>\n",
       "    <tr>\n",
       "      <th>min</th>\n",
       "      <td>1.716200e+04</td>\n",
       "      <td>2.574754</td>\n",
       "      <td>0.000000</td>\n",
       "      <td>0.000000</td>\n",
       "      <td>-32.520127</td>\n",
       "      <td>-5.726369</td>\n",
       "      <td>-0.296977</td>\n",
       "      <td>15.955597</td>\n",
       "    </tr>\n",
       "    <tr>\n",
       "      <th>25%</th>\n",
       "      <td>2.400984e+05</td>\n",
       "      <td>8.157892</td>\n",
       "      <td>1.379685</td>\n",
       "      <td>1.268668</td>\n",
       "      <td>1.692998</td>\n",
       "      <td>0.158903</td>\n",
       "      <td>1.386695</td>\n",
       "      <td>63.380882</td>\n",
       "    </tr>\n",
       "    <tr>\n",
       "      <th>50%</th>\n",
       "      <td>6.738460e+05</td>\n",
       "      <td>9.720710</td>\n",
       "      <td>2.713268</td>\n",
       "      <td>2.526045</td>\n",
       "      <td>2.845161</td>\n",
       "      <td>0.276859</td>\n",
       "      <td>1.654416</td>\n",
       "      <td>69.383394</td>\n",
       "    </tr>\n",
       "    <tr>\n",
       "      <th>75%</th>\n",
       "      <td>1.900079e+06</td>\n",
       "      <td>11.926482</td>\n",
       "      <td>6.451785</td>\n",
       "      <td>5.875212</td>\n",
       "      <td>4.624561</td>\n",
       "      <td>0.504043</td>\n",
       "      <td>1.907876</td>\n",
       "      <td>75.698308</td>\n",
       "    </tr>\n",
       "    <tr>\n",
       "      <th>max</th>\n",
       "      <td>1.767643e+09</td>\n",
       "      <td>92.914995</td>\n",
       "      <td>90.311143</td>\n",
       "      <td>89.694574</td>\n",
       "      <td>26.368226</td>\n",
       "      <td>2.725348</td>\n",
       "      <td>8.953281</td>\n",
       "      <td>656.501951</td>\n",
       "    </tr>\n",
       "  </tbody>\n",
       "</table>\n",
       "</div>"
      ],
      "text/plain": [
       "       Total assets  Tot Equity/Assets  1y Lagged Impaired Ratio  \\\n",
       "count  1.631000e+03        1631.000000               1631.000000   \n",
       "mean   9.640740e+06          10.392757                  4.400130   \n",
       "std    7.636073e+07           4.356821                  5.585627   \n",
       "min    1.716200e+04           2.574754                  0.000000   \n",
       "25%    2.400984e+05           8.157892                  1.379685   \n",
       "50%    6.738460e+05           9.720710                  2.713268   \n",
       "75%    1.900079e+06          11.926482                  6.451785   \n",
       "max    1.767643e+09          92.914995                 90.311143   \n",
       "\n",
       "       Imp Loans/Gross Loans         ROAE         ROAA          NIM  \\\n",
       "count            1631.000000  1631.000000  1631.000000  1631.000000   \n",
       "mean                4.023565     3.190186     0.337962     1.675825   \n",
       "std                 5.101229     3.874437     0.363513     0.554329   \n",
       "min                 0.000000   -32.520127    -5.726369    -0.296977   \n",
       "25%                 1.268668     1.692998     0.158903     1.386695   \n",
       "50%                 2.526045     2.845161     0.276859     1.654416   \n",
       "75%                 5.875212     4.624561     0.504043     1.907876   \n",
       "max                89.694574    26.368226     2.725348     8.953281   \n",
       "\n",
       "         CtI Ratio  \n",
       "count  1631.000000  \n",
       "mean     70.377984  \n",
       "std      18.573556  \n",
       "min      15.955597  \n",
       "25%      63.380882  \n",
       "50%      69.383394  \n",
       "75%      75.698308  \n",
       "max     656.501951  "
      ]
     },
     "execution_count": 15,
     "metadata": {},
     "output_type": "execute_result"
    }
   ],
   "source": [
    "df.describe()"
   ]
  },
  {
   "cell_type": "code",
   "execution_count": 16,
   "id": "amino-interview",
   "metadata": {},
   "outputs": [
    {
     "name": "stdout",
     "output_type": "stream",
     "text": [
      "Il database contiene: 1631 banche e 9 colonne\n"
     ]
    }
   ],
   "source": [
    "print(f\"Il database contiene: {df.shape[0]} banche e {df.shape[1]} colonne\")"
   ]
  },
  {
   "cell_type": "markdown",
   "id": "imposed-adolescent",
   "metadata": {},
   "source": [
    "Si procede quindi con l'analisi attraverso regressione lineare multivariata"
   ]
  },
  {
   "cell_type": "code",
   "execution_count": 17,
   "id": "dramatic-dependence",
   "metadata": {},
   "outputs": [
    {
     "data": {
      "text/plain": [
       "<AxesSubplot:>"
      ]
     },
     "execution_count": 17,
     "metadata": {},
     "output_type": "execute_result"
    },
    {
     "data": {
      "image/png": "[encoded data removed]",
      "text/plain": [
       "<Figure size 432x288 with 2 Axes>"
      ]
     },
     "metadata": {
      "needs_background": "light"
     },
     "output_type": "display_data"
    }
   ],
   "source": [
    "sn.heatmap(df.corr(), annot=True)"
   ]
  },
  {
   "cell_type": "code",
   "execution_count": 18,
   "id": "settled-narrow",
   "metadata": {},
   "outputs": [
    {
     "data": {
      "text/html": [
       "<table class=\"simpletable\">\n",
       "<caption>OLS Regression Results</caption>\n",
       "<tr>\n",
       "  <th>Dep. Variable:</th>    <td>1y Lagged Impaired Ratio</td> <th>  R-squared:         </th> <td>   0.142</td> \n",
       "</tr>\n",
       "<tr>\n",
       "  <th>Model:</th>                       <td>OLS</td>           <th>  Adj. R-squared:    </th> <td>   0.139</td> \n",
       "</tr>\n",
       "<tr>\n",
       "  <th>Method:</th>                 <td>Least Squares</td>      <th>  F-statistic:       </th> <td>   44.90</td> \n",
       "</tr>\n",
       "<tr>\n",
       "  <th>Date:</th>                 <td>Wed, 24 Feb 2021</td>     <th>  Prob (F-statistic):</th> <td>5.15e-51</td> \n",
       "</tr>\n",
       "<tr>\n",
       "  <th>Time:</th>                     <td>01:40:03</td>         <th>  Log-Likelihood:    </th> <td> -4994.3</td> \n",
       "</tr>\n",
       "<tr>\n",
       "  <th>No. Observations:</th>          <td>  1631</td>          <th>  AIC:               </th> <td>1.000e+04</td>\n",
       "</tr>\n",
       "<tr>\n",
       "  <th>Df Residuals:</th>              <td>  1624</td>          <th>  BIC:               </th> <td>1.004e+04</td>\n",
       "</tr>\n",
       "<tr>\n",
       "  <th>Df Model:</th>                  <td>     6</td>          <th>                     </th>     <td> </td>    \n",
       "</tr>\n",
       "<tr>\n",
       "  <th>Covariance Type:</th>          <td>nonrobust</td>        <th>                     </th>     <td> </td>    \n",
       "</tr>\n",
       "</table>\n",
       "<table class=\"simpletable\">\n",
       "<tr>\n",
       "          <td></td>             <th>coef</th>     <th>std err</th>      <th>t</th>      <th>P>|t|</th>  <th>[0.025</th>    <th>0.975]</th>  \n",
       "</tr>\n",
       "<tr>\n",
       "  <th>const</th>             <td>   -5.3421</td> <td>    0.812</td> <td>   -6.575</td> <td> 0.000</td> <td>   -6.936</td> <td>   -3.749</td>\n",
       "</tr>\n",
       "<tr>\n",
       "  <th>Total assets</th>      <td> 4.326e-09</td> <td> 1.71e-09</td> <td>    2.523</td> <td> 0.012</td> <td> 9.63e-10</td> <td> 7.69e-09</td>\n",
       "</tr>\n",
       "<tr>\n",
       "  <th>Tot Equity/Assets</th> <td>   -0.2485</td> <td>    0.038</td> <td>   -6.545</td> <td> 0.000</td> <td>   -0.323</td> <td>   -0.174</td>\n",
       "</tr>\n",
       "<tr>\n",
       "  <th>ROAE</th>              <td>   -0.5208</td> <td>    0.070</td> <td>   -7.420</td> <td> 0.000</td> <td>   -0.658</td> <td>   -0.383</td>\n",
       "</tr>\n",
       "<tr>\n",
       "  <th>ROAA</th>              <td>    8.3577</td> <td>    0.925</td> <td>    9.038</td> <td> 0.000</td> <td>    6.544</td> <td>   10.171</td>\n",
       "</tr>\n",
       "<tr>\n",
       "  <th>NIM</th>               <td>    3.0873</td> <td>    0.238</td> <td>   12.968</td> <td> 0.000</td> <td>    2.620</td> <td>    3.554</td>\n",
       "</tr>\n",
       "<tr>\n",
       "  <th>CtI Ratio</th>         <td>    0.0845</td> <td>    0.009</td> <td>    9.202</td> <td> 0.000</td> <td>    0.066</td> <td>    0.102</td>\n",
       "</tr>\n",
       "</table>\n",
       "<table class=\"simpletable\">\n",
       "<tr>\n",
       "  <th>Omnibus:</th>       <td>2144.822</td> <th>  Durbin-Watson:     </th>  <td>   1.682</td> \n",
       "</tr>\n",
       "<tr>\n",
       "  <th>Prob(Omnibus):</th>  <td> 0.000</td>  <th>  Jarque-Bera (JB):  </th> <td>539604.337</td>\n",
       "</tr>\n",
       "<tr>\n",
       "  <th>Skew:</th>           <td> 7.027</td>  <th>  Prob(JB):          </th>  <td>    0.00</td> \n",
       "</tr>\n",
       "<tr>\n",
       "  <th>Kurtosis:</th>       <td>90.993</td>  <th>  Cond. No.          </th>  <td>6.07e+08</td> \n",
       "</tr>\n",
       "</table><br/><br/>Notes:<br/>[1] Standard Errors assume that the covariance matrix of the errors is correctly specified.<br/>[2] The condition number is large, 6.07e+08. This might indicate that there are<br/>strong multicollinearity or other numerical problems."
      ],
      "text/plain": [
       "<class 'statsmodels.iolib.summary.Summary'>\n",
       "\"\"\"\n",
       "                               OLS Regression Results                               \n",
       "====================================================================================\n",
       "Dep. Variable:     1y Lagged Impaired Ratio   R-squared:                       0.142\n",
       "Model:                                  OLS   Adj. R-squared:                  0.139\n",
       "Method:                       Least Squares   F-statistic:                     44.90\n",
       "Date:                      Wed, 24 Feb 2021   Prob (F-statistic):           5.15e-51\n",
       "Time:                              01:40:03   Log-Likelihood:                -4994.3\n",
       "No. Observations:                      1631   AIC:                         1.000e+04\n",
       "Df Residuals:                          1624   BIC:                         1.004e+04\n",
       "Df Model:                                 6                                         \n",
       "Covariance Type:                  nonrobust                                         \n",
       "=====================================================================================\n",
       "                        coef    std err          t      P>|t|      [0.025      0.975]\n",
       "-------------------------------------------------------------------------------------\n",
       "const                -5.3421      0.812     -6.575      0.000      -6.936      -3.749\n",
       "Total assets       4.326e-09   1.71e-09      2.523      0.012    9.63e-10    7.69e-09\n",
       "Tot Equity/Assets    -0.2485      0.038     -6.545      0.000      -0.323      -0.174\n",
       "ROAE                 -0.5208      0.070     -7.420      0.000      -0.658      -0.383\n",
       "ROAA                  8.3577      0.925      9.038      0.000       6.544      10.171\n",
       "NIM                   3.0873      0.238     12.968      0.000       2.620       3.554\n",
       "CtI Ratio             0.0845      0.009      9.202      0.000       0.066       0.102\n",
       "==============================================================================\n",
       "Omnibus:                     2144.822   Durbin-Watson:                   1.682\n",
       "Prob(Omnibus):                  0.000   Jarque-Bera (JB):           539604.337\n",
       "Skew:                           7.027   Prob(JB):                         0.00\n",
       "Kurtosis:                      90.993   Cond. No.                     6.07e+08\n",
       "==============================================================================\n",
       "\n",
       "Notes:\n",
       "[1] Standard Errors assume that the covariance matrix of the errors is correctly specified.\n",
       "[2] The condition number is large, 6.07e+08. This might indicate that there are\n",
       "strong multicollinearity or other numerical problems.\n",
       "\"\"\""
      ]
     },
     "execution_count": 18,
     "metadata": {},
     "output_type": "execute_result"
    }
   ],
   "source": [
    "# Variabili dipendenti\n",
    "X = df[['Total assets',\n",
    "        'Tot Equity/Assets',\n",
    "        'ROAE',\n",
    "        'ROAA',\n",
    "        'NIM',\n",
    "        'CtI Ratio']]\n",
    "X = sm.add_constant(X) # theta0 = 1\n",
    "\n",
    "# Variabile indipendente\n",
    "y = df[\"1y Lagged Impaired Ratio\"]\n",
    "\n",
    "# Genera OLS Model\n",
    "est = sm.OLS(y, X).fit()\n",
    "# Genera summary\n",
    "est.summary()"
   ]
  },
  {
   "cell_type": "code",
   "execution_count": 19,
   "id": "controversial-tucson",
   "metadata": {},
   "outputs": [
    {
     "data": {
      "text/html": [
       "<table class=\"simpletable\">\n",
       "<caption>OLS Regression Results</caption>\n",
       "<tr>\n",
       "  <th>Dep. Variable:</th>    <td>Imp Loans/Gross Loans</td> <th>  R-squared:         </th> <td>   0.158</td>\n",
       "</tr>\n",
       "<tr>\n",
       "  <th>Model:</th>                     <td>OLS</td>          <th>  Adj. R-squared:    </th> <td>   0.155</td>\n",
       "</tr>\n",
       "<tr>\n",
       "  <th>Method:</th>               <td>Least Squares</td>     <th>  F-statistic:       </th> <td>   50.72</td>\n",
       "</tr>\n",
       "<tr>\n",
       "  <th>Date:</th>               <td>Wed, 24 Feb 2021</td>    <th>  Prob (F-statistic):</th> <td>2.26e-57</td>\n",
       "</tr>\n",
       "<tr>\n",
       "  <th>Time:</th>                   <td>01:40:03</td>        <th>  Log-Likelihood:    </th> <td> -4831.4</td>\n",
       "</tr>\n",
       "<tr>\n",
       "  <th>No. Observations:</th>        <td>  1631</td>         <th>  AIC:               </th> <td>   9677.</td>\n",
       "</tr>\n",
       "<tr>\n",
       "  <th>Df Residuals:</th>            <td>  1624</td>         <th>  BIC:               </th> <td>   9715.</td>\n",
       "</tr>\n",
       "<tr>\n",
       "  <th>Df Model:</th>                <td>     6</td>         <th>                     </th>     <td> </td>   \n",
       "</tr>\n",
       "<tr>\n",
       "  <th>Covariance Type:</th>        <td>nonrobust</td>       <th>                     </th>     <td> </td>   \n",
       "</tr>\n",
       "</table>\n",
       "<table class=\"simpletable\">\n",
       "<tr>\n",
       "          <td></td>             <th>coef</th>     <th>std err</th>      <th>t</th>      <th>P>|t|</th>  <th>[0.025</th>    <th>0.975]</th>  \n",
       "</tr>\n",
       "<tr>\n",
       "  <th>const</th>             <td>   -5.6438</td> <td>    0.735</td> <td>   -7.676</td> <td> 0.000</td> <td>   -7.086</td> <td>   -4.202</td>\n",
       "</tr>\n",
       "<tr>\n",
       "  <th>Total assets</th>      <td> 3.282e-09</td> <td> 1.55e-09</td> <td>    2.115</td> <td> 0.035</td> <td> 2.39e-10</td> <td> 6.33e-09</td>\n",
       "</tr>\n",
       "<tr>\n",
       "  <th>Tot Equity/Assets</th> <td>   -0.2037</td> <td>    0.034</td> <td>   -5.929</td> <td> 0.000</td> <td>   -0.271</td> <td>   -0.136</td>\n",
       "</tr>\n",
       "<tr>\n",
       "  <th>ROAE</th>              <td>   -0.5071</td> <td>    0.064</td> <td>   -7.984</td> <td> 0.000</td> <td>   -0.632</td> <td>   -0.383</td>\n",
       "</tr>\n",
       "<tr>\n",
       "  <th>ROAA</th>              <td>    7.9341</td> <td>    0.837</td> <td>    9.481</td> <td> 0.000</td> <td>    6.293</td> <td>    9.576</td>\n",
       "</tr>\n",
       "<tr>\n",
       "  <th>NIM</th>               <td>    2.9437</td> <td>    0.215</td> <td>   13.663</td> <td> 0.000</td> <td>    2.521</td> <td>    3.366</td>\n",
       "</tr>\n",
       "<tr>\n",
       "  <th>CtI Ratio</th>         <td>    0.0818</td> <td>    0.008</td> <td>    9.843</td> <td> 0.000</td> <td>    0.065</td> <td>    0.098</td>\n",
       "</tr>\n",
       "</table>\n",
       "<table class=\"simpletable\">\n",
       "<tr>\n",
       "  <th>Omnibus:</th>       <td>2287.476</td> <th>  Durbin-Watson:     </th>  <td>   1.767</td> \n",
       "</tr>\n",
       "<tr>\n",
       "  <th>Prob(Omnibus):</th>  <td> 0.000</td>  <th>  Jarque-Bera (JB):  </th> <td>867253.233</td>\n",
       "</tr>\n",
       "<tr>\n",
       "  <th>Skew:</th>           <td> 7.791</td>  <th>  Prob(JB):          </th>  <td>    0.00</td> \n",
       "</tr>\n",
       "<tr>\n",
       "  <th>Kurtosis:</th>       <td>114.887</td> <th>  Cond. No.          </th>  <td>6.07e+08</td> \n",
       "</tr>\n",
       "</table><br/><br/>Notes:<br/>[1] Standard Errors assume that the covariance matrix of the errors is correctly specified.<br/>[2] The condition number is large, 6.07e+08. This might indicate that there are<br/>strong multicollinearity or other numerical problems."
      ],
      "text/plain": [
       "<class 'statsmodels.iolib.summary.Summary'>\n",
       "\"\"\"\n",
       "                              OLS Regression Results                             \n",
       "=================================================================================\n",
       "Dep. Variable:     Imp Loans/Gross Loans   R-squared:                       0.158\n",
       "Model:                               OLS   Adj. R-squared:                  0.155\n",
       "Method:                    Least Squares   F-statistic:                     50.72\n",
       "Date:                   Wed, 24 Feb 2021   Prob (F-statistic):           2.26e-57\n",
       "Time:                           01:40:03   Log-Likelihood:                -4831.4\n",
       "No. Observations:                   1631   AIC:                             9677.\n",
       "Df Residuals:                       1624   BIC:                             9715.\n",
       "Df Model:                              6                                         \n",
       "Covariance Type:               nonrobust                                         \n",
       "=====================================================================================\n",
       "                        coef    std err          t      P>|t|      [0.025      0.975]\n",
       "-------------------------------------------------------------------------------------\n",
       "const                -5.6438      0.735     -7.676      0.000      -7.086      -4.202\n",
       "Total assets       3.282e-09   1.55e-09      2.115      0.035    2.39e-10    6.33e-09\n",
       "Tot Equity/Assets    -0.2037      0.034     -5.929      0.000      -0.271      -0.136\n",
       "ROAE                 -0.5071      0.064     -7.984      0.000      -0.632      -0.383\n",
       "ROAA                  7.9341      0.837      9.481      0.000       6.293       9.576\n",
       "NIM                   2.9437      0.215     13.663      0.000       2.521       3.366\n",
       "CtI Ratio             0.0818      0.008      9.843      0.000       0.065       0.098\n",
       "==============================================================================\n",
       "Omnibus:                     2287.476   Durbin-Watson:                   1.767\n",
       "Prob(Omnibus):                  0.000   Jarque-Bera (JB):           867253.233\n",
       "Skew:                           7.791   Prob(JB):                         0.00\n",
       "Kurtosis:                     114.887   Cond. No.                     6.07e+08\n",
       "==============================================================================\n",
       "\n",
       "Notes:\n",
       "[1] Standard Errors assume that the covariance matrix of the errors is correctly specified.\n",
       "[2] The condition number is large, 6.07e+08. This might indicate that there are\n",
       "strong multicollinearity or other numerical problems.\n",
       "\"\"\""
      ]
     },
     "execution_count": 19,
     "metadata": {},
     "output_type": "execute_result"
    }
   ],
   "source": [
    "# Variabili dipendenti\n",
    "X = df[['Total assets',\n",
    "        'Tot Equity/Assets',\n",
    "        'ROAE',\n",
    "        'ROAA',\n",
    "        'NIM',\n",
    "        'CtI Ratio']]\n",
    "X = sm.add_constant(X) # theta0 = 1\n",
    "\n",
    "# Variabile indipendente\n",
    "y = df[\"Imp Loans/Gross Loans\"]\n",
    "\n",
    "# Genera OLS Model\n",
    "est = sm.OLS(y, X).fit()\n",
    "# Genera summary\n",
    "est.summary()"
   ]
  }
 ],
 "metadata": {
  "kernelspec": {
   "display_name": "Python 3",
   "language": "python",
   "name": "python3"
  },
  "language_info": {
   "codemirror_mode": {
    "name": "ipython",
    "version": 3
   },
   "file_extension": ".py",
   "mimetype": "text/x-python",
   "name": "python",
   "nbconvert_exporter": "python",
   "pygments_lexer": "ipython3",
   "version": "3.8.5"
  }
 },
 "nbformat": 4,
 "nbformat_minor": 5
}
